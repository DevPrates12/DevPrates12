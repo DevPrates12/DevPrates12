{
  "nbformat": 4,
  "nbformat_minor": 0,
  "metadata": {
    "colab": {
      "provenance": [],
      "authorship_tag": "ABX9TyOn7HNvLBvgIj4gTF423ias",
      "include_colab_link": true
    },
    "kernelspec": {
      "name": "python3",
      "display_name": "Python 3"
    },
    "language_info": {
      "name": "python"
    }
  },
  "cells": [
    {
      "cell_type": "markdown",
      "metadata": {
        "id": "view-in-github",
        "colab_type": "text"
      },
      "source": [
        "<a href=\"https://colab.research.google.com/github/DevPrates12/DevPrates12/blob/main/Projetos.ipynb\" target=\"_parent\"><img src=\"https://colab.research.google.com/assets/colab-badge.svg\" alt=\"Open In Colab\"/></a>"
      ]
    },
    {
      "cell_type": "markdown",
      "source": [
        "# **MARLON PRATES** - *56549* - https://colab.research.google.com/drive/1ZWE2nv_BxYLF4PQmWnA66BhU8XfWg5Mh?usp=sharing"
      ],
      "metadata": {
        "id": "SAE4JGUgz3BJ"
      }
    },
    {
      "cell_type": "markdown",
      "source": [
        "EXERCÍCIO 1"
      ],
      "metadata": {
        "id": "mLEnLl4R02dK"
      }
    },
    {
      "cell_type": "code",
      "source": [
        "x = 5\n",
        "x = 5.0\n",
        "x = 5.5\n",
        "x = 'DNC'\n",
        "x = 1/2\n",
        "x = 0.5 * 2\n",
        "x = 2 ** 4\n",
        "x = 2+4\n",
        "x = 100000000\n",
        "\n",
        "print(type(5))\n",
        "print(type(5.0))\n",
        "print(type(5.5))\n",
        "print(type('DNC'))\n",
        "print(type(1/2))\n",
        "print(type(0.5 * 2))\n",
        "print(type(2 ** 4))\n",
        "print(type(2+4))\n",
        "print(type(100000000))\n",
        "\n",
        "variavelTipo = input('Informe um número: ')\n",
        "print(type(int('O tipo de dado é: ',variavelTipo)))\n",
        "\n",
        "variavelTipo = input('Informe um número: ')\n",
        "print(type(float('O tipo de dado é: ',variavelTipo))\n",
        "\n",
        "variavelT"
      ],
      "metadata": {
        "colab": {
          "base_uri": "https://localhost:8080/",
          "height": 135
        },
        "id": "Ikj3KSgp0Jgc",
        "outputId": "53acea1d-41e8-4a43-d052-890d1034e08f"
      },
      "execution_count": null,
      "outputs": [
        {
          "output_type": "error",
          "ename": "SyntaxError",
          "evalue": "ignored",
          "traceback": [
            "\u001b[0;36m  File \u001b[0;32m\"<ipython-input-42-f0b968d025bb>\"\u001b[0;36m, line \u001b[0;32m25\u001b[0m\n\u001b[0;31m    print(type(float('O tipo de dado é: ',variavelTipo))\u001b[0m\n\u001b[0m                                                        ^\u001b[0m\n\u001b[0;31mSyntaxError\u001b[0m\u001b[0;31m:\u001b[0m unexpected EOF while parsing\n"
          ]
        }
      ]
    },
    {
      "cell_type": "code",
      "source": [],
      "metadata": {
        "id": "n4GFeHGvDqJo"
      },
      "execution_count": null,
      "outputs": []
    }
  ]
}